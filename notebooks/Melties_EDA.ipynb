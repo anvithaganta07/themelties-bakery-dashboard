{
 "cells": [
  {
   "cell_type": "markdown",
   "id": "1fb60f74",
   "metadata": {},
   "source": [
    "# 🧁 Melties EDA\n",
    "Exploratory Data Analysis of Melties Bakery Sales Data"
   ]
  },
  {
   "cell_type": "code",
   "execution_count": null,
   "id": "3c7c9271",
   "metadata": {},
   "outputs": [],
   "source": [
    "import pandas as pd\n",
    "import matplotlib.pyplot as plt\n",
    "import seaborn as sns\n",
    "\n",
    "# Load data\n",
    "df = pd.read_excel('../data/The_Melties_Bakery_Data.xlsx')\n",
    "df.head()"
   ]
  },
  {
   "cell_type": "markdown",
   "id": "2acbeaaf",
   "metadata": {},
   "source": [
    "## 📦 Product Performance"
   ]
  },
  {
   "cell_type": "code",
   "execution_count": null,
   "id": "6abb83be",
   "metadata": {},
   "outputs": [],
   "source": [
    "product_summary = df.groupby('Product').agg({'Quantity': 'sum', 'Profit (INR)': 'sum'}).sort_values(by='Profit (INR)', ascending=False)\n",
    "product_summary.plot(kind='barh', figsize=(10,6))\n",
    "plt.title('Product Performance by Profit')\n",
    "plt.xlabel('Profit (INR)')\n",
    "plt.ylabel('Product')\n",
    "plt.tight_layout()\n",
    "plt.show()"
   ]
  },
  {
   "cell_type": "markdown",
   "id": "a5f5873f",
   "metadata": {},
   "source": [
    "## 📱 Sales by Channel"
   ]
  },
  {
   "cell_type": "code",
   "execution_count": null,
   "id": "079e18d1",
   "metadata": {},
   "outputs": [],
   "source": [
    "channel_summary = df['Channel'].value_counts()\n",
    "channel_summary.plot(kind='pie', autopct='%1.1f%%', startangle=90)\n",
    "plt.title('Sales by Channel')\n",
    "plt.ylabel('')\n",
    "plt.show()"
   ]
  },
  {
   "cell_type": "markdown",
   "id": "b24bc20a",
   "metadata": {},
   "source": [
    "## 🔁 Repeat vs New Customers"
   ]
  },
  {
   "cell_type": "code",
   "execution_count": null,
   "id": "f350ed4f",
   "metadata": {},
   "outputs": [],
   "source": [
    "repeat_summary = df['Repeat Customer'].value_counts()\n",
    "repeat_summary.plot(kind='bar', color='skyblue')\n",
    "plt.title('Repeat vs New Customers')\n",
    "plt.ylabel('Number of Orders')\n",
    "plt.xticks(rotation=0)\n",
    "plt.tight_layout()\n",
    "plt.show()"
   ]
  }
 ],
 "metadata": {},
 "nbformat": 4,
 "nbformat_minor": 5
}
